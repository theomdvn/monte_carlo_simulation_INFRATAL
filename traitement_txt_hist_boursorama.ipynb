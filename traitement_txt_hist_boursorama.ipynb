{
 "cells": [
  {
   "cell_type": "code",
   "execution_count": 2,
   "metadata": {},
   "outputs": [],
   "source": [
    "import numpy as np\n",
    "import pandas as pd\n",
    "from datetime import datetime\n",
    "import matplotlib.pyplot as plt\n",
    "from scipy.stats import norm"
   ]
  },
  {
   "cell_type": "code",
   "execution_count": 3,
   "metadata": {},
   "outputs": [],
   "source": [
    "# Charger le fichier texte dans un DataFrame pandas\n",
    "df = pd.read_csv(r'C:\\Users\\theom\\Desktop\\INFRATAL\\MonteCarlo TAL\\Database\\USDSGDSPOT_2023-04-20.txt', delimiter='\\t')\n",
    "df2 = pd.read_csv(r'C:\\Users\\theom\\Desktop\\INFRATAL\\MonteCarlo TAL\\Database\\USDCNYSPOT_2023-04-20.txt', delimiter='\\t')\n",
    "df3 = pd.read_csv(r'C:\\Users\\theom\\Desktop\\INFRATAL\\MonteCarlo TAL\\Database\\USDEURSPOT_2023-04-20.txt', delimiter='\\t')\n",
    "df4 = pd.read_csv(r'C:\\Users\\theom\\Desktop\\INFRATAL\\MonteCarlo TAL\\Database\\USDGBPSPOT_2023-04-20.txt', delimiter='\\t')\n",
    "df5 = pd.read_csv(r'C:\\Users\\theom\\Desktop\\INFRATAL\\MonteCarlo TAL\\Database\\USDCHFSPOT_2023-04-20.txt', delimiter='\\t')\n",
    "df6 = pd.read_csv(r'C:\\Users\\theom\\Desktop\\INFRATAL\\MonteCarlo TAL\\Database\\USDJPYSPOT_2023-04-20.txt', delimiter='\\t')\n",
    "df7 = pd.read_csv(r'C:\\Users\\theom\\Desktop\\INFRATAL\\MonteCarlo TAL\\Database\\GOLD_2023-04-20.txt', delimiter='\\t')"
   ]
  },
  {
   "cell_type": "code",
   "execution_count": 4,
   "metadata": {},
   "outputs": [],
   "source": [
    "df.columns = ['date','ouv','haut','bas','USDSGD','vol','devise','Unnamed: 7']\n",
    "df2.columns = ['date','ouv','haut','bas','USDCNY','vol','devise','Unnamed: 7']\n",
    "df3.columns = ['date','ouv','haut','bas','USDEUR','vol','devise','Unnamed: 7']\n",
    "df4.columns = ['date','ouv','haut','bas','USDGBP','vol','devise','Unnamed: 7']\n",
    "df5.columns = ['date','ouv','haut','bas','USDCHF','vol','devise','Unnamed: 7']\n",
    "df6.columns = ['date','ouv','haut','bas','USDJPY','vol','devise','Unnamed: 7']  \n",
    "df7.columns = ['date','ouv','haut','bas','USDGOLD','vol','devise','Unnamed: 7']"
   ]
  },
  {
   "cell_type": "code",
   "execution_count": 5,
   "metadata": {},
   "outputs": [
    {
     "name": "stderr",
     "output_type": "stream",
     "text": [
      "C:\\Users\\theom\\AppData\\Local\\Temp\\ipykernel_39596\\2878520878.py:3: FutureWarning: Passing 'suffixes' which cause duplicate columns {'devise_x', 'ouv_x', 'vol_x', 'bas_x', 'Unnamed: 7_x', 'haut_x'} in the result is deprecated and will raise a MergeError in a future version.\n",
      "  df = pd.merge(df, df4, on='date')\n",
      "C:\\Users\\theom\\AppData\\Local\\Temp\\ipykernel_39596\\2878520878.py:5: FutureWarning: Passing 'suffixes' which cause duplicate columns {'devise_x', 'ouv_x', 'vol_x', 'bas_x', 'Unnamed: 7_x', 'haut_x'} in the result is deprecated and will raise a MergeError in a future version.\n",
      "  df = pd.merge(df, df6, on='date')\n"
     ]
    }
   ],
   "source": [
    "df = pd.merge(df, df2, on='date')\n",
    "df = pd.merge(df, df3, on='date')\n",
    "df = pd.merge(df, df4, on='date')\n",
    "df = pd.merge(df, df5, on='date')\n",
    "df = pd.merge(df, df6, on='date')\n",
    "df = pd.merge(df, df7, on='date')\n"
   ]
  },
  {
   "cell_type": "code",
   "execution_count": 6,
   "metadata": {},
   "outputs": [],
   "source": [
    "cols_to_keep = [col for col in df.columns if col.startswith('USD')]\n",
    "\n",
    "# Supprimer toutes les colonnes qui ne sont pas dans la liste de sélection\n"
   ]
  },
  {
   "cell_type": "code",
   "execution_count": 7,
   "metadata": {},
   "outputs": [],
   "source": [
    "cols_to_keep.append('date')\n",
    "cols_to_keep.insert(0, cols_to_keep.pop(cols_to_keep.index('date')))"
   ]
  },
  {
   "cell_type": "code",
   "execution_count": 8,
   "metadata": {},
   "outputs": [],
   "source": [
    "df = df[cols_to_keep]"
   ]
  },
  {
   "cell_type": "code",
   "execution_count": 9,
   "metadata": {},
   "outputs": [
    {
     "data": {
      "text/html": [
       "<div>\n",
       "<style scoped>\n",
       "    .dataframe tbody tr th:only-of-type {\n",
       "        vertical-align: middle;\n",
       "    }\n",
       "\n",
       "    .dataframe tbody tr th {\n",
       "        vertical-align: top;\n",
       "    }\n",
       "\n",
       "    .dataframe thead th {\n",
       "        text-align: right;\n",
       "    }\n",
       "</style>\n",
       "<table border=\"1\" class=\"dataframe\">\n",
       "  <thead>\n",
       "    <tr style=\"text-align: right;\">\n",
       "      <th></th>\n",
       "      <th>date</th>\n",
       "      <th>USDSGD</th>\n",
       "      <th>USDCNY</th>\n",
       "      <th>USDEUR</th>\n",
       "      <th>USDGBP</th>\n",
       "      <th>USDCHF</th>\n",
       "      <th>USDJPY</th>\n",
       "      <th>USDGOLD</th>\n",
       "    </tr>\n",
       "  </thead>\n",
       "  <tbody>\n",
       "    <tr>\n",
       "      <th>0</th>\n",
       "      <td>22/04/2013 00:00</td>\n",
       "      <td>1.240</td>\n",
       "      <td>6.183</td>\n",
       "      <td>0.766</td>\n",
       "      <td>0.654</td>\n",
       "      <td>0.934</td>\n",
       "      <td>99.355</td>\n",
       "      <td>1421.30</td>\n",
       "    </tr>\n",
       "    <tr>\n",
       "      <th>1</th>\n",
       "      <td>23/04/2013 00:00</td>\n",
       "      <td>1.241</td>\n",
       "      <td>6.179</td>\n",
       "      <td>0.769</td>\n",
       "      <td>0.656</td>\n",
       "      <td>0.945</td>\n",
       "      <td>99.395</td>\n",
       "      <td>1413.40</td>\n",
       "    </tr>\n",
       "    <tr>\n",
       "      <th>2</th>\n",
       "      <td>24/04/2013 00:00</td>\n",
       "      <td>1.243</td>\n",
       "      <td>6.179</td>\n",
       "      <td>0.768</td>\n",
       "      <td>0.655</td>\n",
       "      <td>0.947</td>\n",
       "      <td>99.485</td>\n",
       "      <td>1421.10</td>\n",
       "    </tr>\n",
       "    <tr>\n",
       "      <th>3</th>\n",
       "      <td>25/04/2013 00:00</td>\n",
       "      <td>1.239</td>\n",
       "      <td>6.171</td>\n",
       "      <td>0.769</td>\n",
       "      <td>0.648</td>\n",
       "      <td>0.945</td>\n",
       "      <td>99.305</td>\n",
       "      <td>1458.30</td>\n",
       "    </tr>\n",
       "    <tr>\n",
       "      <th>4</th>\n",
       "      <td>26/04/2013 00:00</td>\n",
       "      <td>1.235</td>\n",
       "      <td>6.165</td>\n",
       "      <td>0.767</td>\n",
       "      <td>0.647</td>\n",
       "      <td>0.942</td>\n",
       "      <td>98.055</td>\n",
       "      <td>1453.00</td>\n",
       "    </tr>\n",
       "    <tr>\n",
       "      <th>...</th>\n",
       "      <td>...</td>\n",
       "      <td>...</td>\n",
       "      <td>...</td>\n",
       "      <td>...</td>\n",
       "      <td>...</td>\n",
       "      <td>...</td>\n",
       "      <td>...</td>\n",
       "      <td>...</td>\n",
       "    </tr>\n",
       "    <tr>\n",
       "      <th>2527</th>\n",
       "      <td>13/04/2023 00:00</td>\n",
       "      <td>1.322</td>\n",
       "      <td>6.869</td>\n",
       "      <td>0.905</td>\n",
       "      <td>0.798</td>\n",
       "      <td>0.890</td>\n",
       "      <td>132.574</td>\n",
       "      <td>2040.63</td>\n",
       "    </tr>\n",
       "    <tr>\n",
       "      <th>2528</th>\n",
       "      <td>14/04/2023 00:00</td>\n",
       "      <td>1.330</td>\n",
       "      <td>6.872</td>\n",
       "      <td>0.901</td>\n",
       "      <td>0.805</td>\n",
       "      <td>0.893</td>\n",
       "      <td>133.825</td>\n",
       "      <td>2004.18</td>\n",
       "    </tr>\n",
       "    <tr>\n",
       "      <th>2529</th>\n",
       "      <td>17/04/2023 00:00</td>\n",
       "      <td>1.334</td>\n",
       "      <td>6.880</td>\n",
       "      <td>0.915</td>\n",
       "      <td>0.808</td>\n",
       "      <td>0.899</td>\n",
       "      <td>134.452</td>\n",
       "      <td>1995.50</td>\n",
       "    </tr>\n",
       "    <tr>\n",
       "      <th>2530</th>\n",
       "      <td>18/04/2023 00:00</td>\n",
       "      <td>1.333</td>\n",
       "      <td>6.876</td>\n",
       "      <td>0.912</td>\n",
       "      <td>0.805</td>\n",
       "      <td>0.896</td>\n",
       "      <td>134.080</td>\n",
       "      <td>2004.92</td>\n",
       "    </tr>\n",
       "    <tr>\n",
       "      <th>2531</th>\n",
       "      <td>19/04/2023 00:00</td>\n",
       "      <td>1.335</td>\n",
       "      <td>6.886</td>\n",
       "      <td>0.913</td>\n",
       "      <td>0.804</td>\n",
       "      <td>0.898</td>\n",
       "      <td>134.621</td>\n",
       "      <td>1994.44</td>\n",
       "    </tr>\n",
       "  </tbody>\n",
       "</table>\n",
       "<p>2532 rows × 8 columns</p>\n",
       "</div>"
      ],
      "text/plain": [
       "                  date  USDSGD  USDCNY  USDEUR  USDGBP  USDCHF   USDJPY  \\\n",
       "0     22/04/2013 00:00   1.240   6.183   0.766   0.654   0.934   99.355   \n",
       "1     23/04/2013 00:00   1.241   6.179   0.769   0.656   0.945   99.395   \n",
       "2     24/04/2013 00:00   1.243   6.179   0.768   0.655   0.947   99.485   \n",
       "3     25/04/2013 00:00   1.239   6.171   0.769   0.648   0.945   99.305   \n",
       "4     26/04/2013 00:00   1.235   6.165   0.767   0.647   0.942   98.055   \n",
       "...                ...     ...     ...     ...     ...     ...      ...   \n",
       "2527  13/04/2023 00:00   1.322   6.869   0.905   0.798   0.890  132.574   \n",
       "2528  14/04/2023 00:00   1.330   6.872   0.901   0.805   0.893  133.825   \n",
       "2529  17/04/2023 00:00   1.334   6.880   0.915   0.808   0.899  134.452   \n",
       "2530  18/04/2023 00:00   1.333   6.876   0.912   0.805   0.896  134.080   \n",
       "2531  19/04/2023 00:00   1.335   6.886   0.913   0.804   0.898  134.621   \n",
       "\n",
       "      USDGOLD  \n",
       "0     1421.30  \n",
       "1     1413.40  \n",
       "2     1421.10  \n",
       "3     1458.30  \n",
       "4     1453.00  \n",
       "...       ...  \n",
       "2527  2040.63  \n",
       "2528  2004.18  \n",
       "2529  1995.50  \n",
       "2530  2004.92  \n",
       "2531  1994.44  \n",
       "\n",
       "[2532 rows x 8 columns]"
      ]
     },
     "execution_count": 9,
     "metadata": {},
     "output_type": "execute_result"
    }
   ],
   "source": [
    "df"
   ]
  },
  {
   "cell_type": "code",
   "execution_count": 10,
   "metadata": {},
   "outputs": [],
   "source": [
    "df.to_csv('df_currency_10y.csv', index=False)"
   ]
  },
  {
   "cell_type": "code",
   "execution_count": 183,
   "metadata": {},
   "outputs": [],
   "source": [
    "df2 = pd.read_csv(\"historical_data.csv\",parse_dates=True,index_col=0)"
   ]
  },
  {
   "cell_type": "code",
   "execution_count": 184,
   "metadata": {},
   "outputs": [],
   "source": [
    "df1 = pd.read_csv('GOLD_2023-04-11.csv')"
   ]
  },
  {
   "cell_type": "code",
   "execution_count": 186,
   "metadata": {},
   "outputs": [],
   "source": [
    "df2 = df2[350:]\n",
    "df1 = df1.iloc[::-1]"
   ]
  },
  {
   "cell_type": "code",
   "execution_count": 185,
   "metadata": {},
   "outputs": [],
   "source": [
    "# Convert the date column of the first dataframe to datetime\n",
    "df1['date'] = pd.to_datetime(df1['date'], format='%d/%m/%Y %H:%M', errors='coerce',utc=True)\n",
    "\n",
    "# Localize the datetime objects in the first dataframe to UTC timezone\n",
    "df1['date'] = df1['date'].dt.tz_convert('UTC')\n",
    "\n",
    "# Convert the index of the second dataframe to datetime (if the index is the date column)\n",
    "df2.index = pd.to_datetime(df2.index, errors='coerce', utc=True)\n",
    "\n",
    "# Reset the index of the second dataframe to turn it into a column\n",
    "df2.reset_index(inplace=True)\n",
    "\n",
    "# Rename the date column of the second dataframe to match the first dataframe\n",
    "df2.rename(columns={'index': 'date'}, inplace=True)\n",
    "\n",
    "# Ensure that the date column in the second dataframe is of type datetime64[ns, UTC]\n",
    "df2['date'] = df2['date'].astype('datetime64[ns, UTC]')\n"
   ]
  },
  {
   "cell_type": "code",
   "execution_count": 155,
   "metadata": {},
   "outputs": [],
   "source": [
    "merged_df = df1.merge(df2, on='date')"
   ]
  },
  {
   "cell_type": "code",
   "execution_count": 156,
   "metadata": {},
   "outputs": [],
   "source": [
    "df = merged_df[['date', 'clot','USDCHFclose','USDEURclose','USDGBPclose','USDJPYclose','USDCNYclose','USDCHFclose','USDGDclose']]"
   ]
  },
  {
   "cell_type": "code",
   "execution_count": 187,
   "metadata": {},
   "outputs": [],
   "source": [
    "# Assuming df1 and df2 are your original DataFrames with a 'date' column\n",
    "df1 = df1.set_index('date')\n",
    "df2 = df2.set_index('date')\n",
    "\n",
    "# Convert the index to datetime if necessary\n",
    "df1.index = pd.to_datetime(df1.index)\n",
    "df2.index = pd.to_datetime(df2.index)\n",
    "\n",
    "# Resample both DataFrames to a daily frequency\n",
    "df1_resampled = df1.resample('D').asfreq()\n",
    "df2_resampled = df2.resample('D').asfreq()\n",
    "\n",
    "# Merge the resampled DataFrames\n",
    "merged_df = df1_resampled.merge(df2_resampled, left_index=True, right_index=True, how='outer')\n"
   ]
  },
  {
   "cell_type": "code",
   "execution_count": 188,
   "metadata": {},
   "outputs": [],
   "source": [
    "merged_df.to_csv('merged_df_2.csv')"
   ]
  },
  {
   "cell_type": "code",
   "execution_count": 146,
   "metadata": {},
   "outputs": [],
   "source": [
    "df.columns = ['date', 'USDAUX','USDCHF','USDEUR','USDGBP','USDJPY','USDCNY','USDCHF','USDSGD']"
   ]
  },
  {
   "cell_type": "code",
   "execution_count": 96,
   "metadata": {},
   "outputs": [],
   "source": [
    "df.to_csv('clean_data.csv', index=False)"
   ]
  }
 ],
 "metadata": {
  "kernelspec": {
   "display_name": "Python 3",
   "language": "python",
   "name": "python3"
  },
  "language_info": {
   "codemirror_mode": {
    "name": "ipython",
    "version": 3
   },
   "file_extension": ".py",
   "mimetype": "text/x-python",
   "name": "python",
   "nbconvert_exporter": "python",
   "pygments_lexer": "ipython3",
   "version": "3.9.13"
  },
  "orig_nbformat": 4
 },
 "nbformat": 4,
 "nbformat_minor": 2
}
